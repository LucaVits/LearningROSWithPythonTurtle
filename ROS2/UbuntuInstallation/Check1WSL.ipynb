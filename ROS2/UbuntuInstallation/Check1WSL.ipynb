{
  "nbformat": 4,
  "nbformat_minor": 0,
  "metadata": {
    "colab": {
      "provenance": []
    },
    "kernelspec": {
      "name": "python3",
      "display_name": "Python 3"
    },
    "language_info": {
      "name": "python"
    }
  },
  "cells": [
    {
      "cell_type": "markdown",
      "source": [
        "#Checkpoint 1\n",
        "This is the WSL2 Ubuntu install for the Python Turtle packages. To install ROS2 Iron (required for this checkpoint), follow the Ubuntu Install Directions at https://github.com/LucaVits/LearningROSWithPythonTurtle/blob/main/ROS2/UbuntuInstallation/ROSIronInstallationUbuntu.ipynb\n",
        "\n",
        "These directions also assume you have the vi editor. Ubuntu should have this preinstalled with it.\n",
        "\n",
        "1. Find the location of the Robotics_Middleware_Trial_Python_Turtle directory. Use the `cd` command in the Ubuntu terminal to navigate to it.\n",
        "\n",
        "2. Enter the command:\n",
        "```\n",
        "cd ROS2/dev_ws/src\n",
        "```\n",
        "\n",
        "3. Source ROS2 Iron and create new directories for python_turtle and turtle_interfaces. To do so, enter the commands:\n",
        "```\n",
        "source /opt/ros/iron/setup.bash\n",
        "ros2 pkg create --build-type ament_python python_turtle\n",
        "ros2 pkg create --build-type ament_cmake turtle_interfaces\n",
        "```\n",
        "\n",
        "4. Make a new directory within turtle_interfaces called \"msg\". Do so by entering the commands:\n",
        "```\n",
        "cd turtle_interfaces\n",
        "mkdir msg\n",
        "```\n",
        "\n",
        "5. Enter the \"msg\" directory and create a new file name “Turtlemsg.msg”. To do so, enter the commands:\n",
        "```\n",
        "cd msg\n",
        "vi Turtlemsg.msg\n",
        "```\n",
        "\n",
        "6. This should open the vim editor for the new file. Press the I key to switch to insert mode, the enter these contents into the file:\n",
        "```\n",
        "string name\n",
        "geometry_msgs/Pose turtle_pose\n",
        "string color\n",
        "```\n",
        "\n",
        "7. Now, hit the Esc key to exit insert mode. Next, enter “:wq” to save the file and close it.\n",
        "\n",
        "8. Reenter the turtle_interfaces directory and edit the CMakeLists.txt file. To do so enter the following commands (Choose 1 of the vim or VSCode options):\n",
        "```\n",
        "cd ..\n",
        "//Open using vim\n",
        "vi CMakeLists.txt\n",
        "//or open using VSCode\n",
        "//code CMakeLists.txt\n",
        "```\n",
        "If using vim, press 'I' to enter Insert mode.\n",
        "\n",
        "9. Enter the following lines of code into CMakeLists.txt before the line `ament_package()`:\n",
        "```\n",
        "find_package(geometry_msgs REQUIRED)\n",
        "find_package(rosidl_default_generators REQUIRED)\n",
        "rosidl_generate_interfaces(${PROJECT_NAME}\n",
        "  \"msg/Turtlemsg.msg\"\n",
        "  \"srv/Setpose.srv\"\n",
        "  \"srv/Setcolor.srv\"\n",
        "  DEPENDENCIES geometry_msgs\n",
        ")\n",
        "```\n",
        "Be sure to save the file. If in vim, press Esc and enter `:wq` to save/quit to terminal.\n",
        "\n",
        "10. Edit the package.xml file. To do so enter the following commands (Choose 1 of the vim or VSCode options):\n",
        "```\n",
        "//Open using vim\n",
        "vi package.xml\n",
        "//or open using VSCode\n",
        "//code package.xml\n",
        "```\n",
        "If using vim, press 'I' to enter Insert mode.\n",
        "\n",
        "11. Enter the following code immediately after the line `<test_depend>ament_lint_common</test_depend>`:\n",
        "```\n",
        "<build_depend>rosidl_default_generators</build_depend>\n",
        "<depend>geometry_msgs</depend>\n",
        "<exec_depend>rosidl_default_runtime</exec_depend>\n",
        "<member_of_group>rosidl_interface_packages</member_of_group>\n",
        "```\n",
        "Be sure to save the file. If in vim, press Esc and enter `:wq` to save/quit to terminal.\n",
        "\n",
        "12. Create a new folder in the turtle_interfaces directory called `srv`. To do so, enter this command in the terminal:\n",
        "```\n",
        "mkdir srv\n",
        "```\n",
        "\n",
        "13. Enter into the `srv` directory and create a new file called \"Setpose.srv\". To do so, enter the following commands in the terminal.\n",
        "```\n",
        "cd srv\n",
        "vi Setpose.srv\n",
        "```\n",
        "This will open the vim editor. Press 'I' to enter Insert Mode.\n",
        "\n",
        "14. Enter the following code into the file:"
      ],
      "metadata": {
        "id": "q302vd1s4K1k"
      }
    },
    {
      "cell_type": "markdown",
      "source": [
        "```\n",
        "geometry_msgs/PoseStamped turtle_pose\n",
        "---\n",
        "int8 ret\n",
        "```"
      ],
      "metadata": {
        "id": "POOMQBxt9IfS"
      }
    },
    {
      "cell_type": "markdown",
      "source": [],
      "metadata": {
        "id": "l-H7gPn295I-"
      }
    },
    {
      "cell_type": "markdown",
      "source": [
        "To save and quit to terminal, press the Esc key and then enter `:wq`.\n",
        "\n",
        "15. Create a new file in the same directory called \"Setcolor.srv\". To do so, enter the following command in the terminal.\n",
        "```\n",
        "vi Setcolor.srv\n",
        "```\n",
        "This will open the vim editor. Press 'I' to enter Insert Mode.\n",
        "\n",
        "16. Enter the following code into the file:"
      ],
      "metadata": {
        "id": "bvHE_yvF9g6I"
      }
    },
    {
      "cell_type": "markdown",
      "source": [
        "```\n",
        "string color\n",
        "---\n",
        "int8 ret\n",
        "```"
      ],
      "metadata": {
        "id": "H6J6UT14-Gq8"
      }
    },
    {
      "cell_type": "markdown",
      "source": [
        "\n",
        "To save and quit to terminal, press the Esc key and then enter `:wq`.\n",
        "\n",
        "17. Reenter the `dev_ws` directory and ensure your python setuptools are on verison 58.2.0. This can be done with the following commands:\n",
        "\n",
        "```\n",
        "cd ../../..\n",
        "pip install setuptools==58.2.0\n",
        "```\n",
        "\n",
        "18. We need to update the instances of script-dir and install-scripts to the modern syntax script_dir and install_scripts. IMPORTANT: Please ensure you are in the `dev_ws` directory before running the following command!\n",
        "```\n",
        "find . -type f -exec sed -i 's/script-dir/script_dir/g' {} + find . -type f -exec sed -i 's/install-scripts/install_scripts/g' {}\n",
        "```\n",
        "\n",
        "19. Build your files with the command:\n",
        "```\n",
        "colcon build\n",
        "```\n",
        "\n",
        "The python_turtle, turtle_interfaces, and webcam packages should all build and finish with no error messages. The output should look similar to this (build times may vary).\n",
        "```\n",
        "Starting >>> python_turtle\n",
        "Starting >>> turtle_interfaces\n",
        "Starting >>> webcam\n",
        "Finished <<< python_turtle [8.78s]\n",
        "Finished <<< webcam [9.76s]\n",
        "[Processing: turtle_interfaces]\n",
        "Finished <<< turtle_interfaces [48.9s]\n",
        "\n",
        "Summary: 3 packages finished [51.5s]\n",
        "```\n",
        "\n",
        "\n"
      ],
      "metadata": {
        "id": "5WxPghNy-QVv"
      }
    }
  ]
}