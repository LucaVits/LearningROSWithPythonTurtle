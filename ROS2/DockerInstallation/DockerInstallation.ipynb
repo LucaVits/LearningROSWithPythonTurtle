{
 "cells": [
  {
   "cell_type": "markdown",
   "metadata": {},
   "source": [
    "# First Time Installation\n",
    "\n",
    "This guide covers how to install ROS2 via Docker.\n",
    "\n",
    "If you are already familiar with using Docker, the steps are as follows:\n",
    "\n",
    "1. Install Docker\n",
    "2. Build a docker image using the provided Dockerfile (`docker build -f ros2_jazzy.dockerfile -t ros2_jazzy .`)\n",
    "3. Run a container from the image\n",
    "4. Connect to the container through VSCode\n",
    "5. Confirm ROS works by running the `turtlesim_node` program.\n",
    "\n",
    "If you are not familiar with Docker, detailed steps can be found bellow."
   ]
  },
  {
   "cell_type": "markdown",
   "metadata": {},
   "source": [
    "# Step 0: Installing Prerequisites\n",
    "\n",
    "### Windows\n",
    "\n",
    "If you are using Windows, you must also install WSL2 or HyperV. For this tutorial, we use and recommend WSL2. When prompted by the Docker Desktop installer in step 1, prefer WSL2 over HyperV.\n",
    "\n",
    "WSL2 can be installed by running: `wsl --install`\n",
    "in an administrator terminal. An administrator terminal can be accessed by searching for \"Terminal\" in the Windows search bar, right clicking on the icon, and then selecting \"Run as administrator\".\n",
    "\n",
    "For more info on installing WSL2 for Docker, see [this link](https://learn.microsoft.com/en-us/windows/wsl/install).\n",
    "\n",
    "### MacOS\n",
    "\n",
    "Mac does not have a built in GUI server, so we need to install one. [XQuartz](https://www.xquartz.org/) is the server we recommend.\n",
    "\n",
    "1. Install XQuartz from the link above.\n",
    "2. Under the XQuartz menu, navigate to Preferences > Security and ensure \"Allow connections from network clients\" is checked.\n",
    "3. Restart XQuartz\n",
    "4. In the XQuartz Terminal that open, run: `xhost + localhost`\n",
    "\n",
    "> NOTE\n",
    ">\n",
    "> Step 4 must be run everytime you restart XQuartz\n",
    "\n",
    "For more info, see [this link](https://gist.github.com/paul-krohn/e45f96181b1cf5e536325d1bdee6c949).\n",
    "\n",
    "### Linux\n",
    "\n",
    "There are no specific prerequisites for Linux."
   ]
  },
  {
   "cell_type": "markdown",
   "metadata": {},
   "source": [
    "## Step 1: Installing Docker Desktop\n",
    "\n",
    "Docker can be be downloaded via Docker Desktop on [Windows](https://docs.docker.com/desktop/install/windows-install/), [Mac](https://docs.docker.com/desktop/install/mac-install/), and [Linux](https://docs.docker.com/desktop/install/linux/).\n",
    "\n",
    "On Linux and Mac, a VM is automatically set up when installing Docker Desktop."
   ]
  },
  {
   "cell_type": "markdown",
   "metadata": {},
   "source": [
    "## Step 2: Running the Dockerfile\n",
    "\n",
    "Docker uses Dockerfiles to create images, which are essentially templates for Docker containers.\n",
    "\n",
    "The [dockerfiles in this directory](Dockerfiles/) will set up a blank ROS2 environment for you to work in. This tutorial was made using [ros2_jazzy.dockerfile](Dockerfiles/ros2_jazzy.dockerfile), but it may work for other ROS2 distributions.\n",
    "\n",
    "To build your image, navigate to the folder where the Dockerfile is stored in the terminal.\n",
    "\n",
    "If you are unfamiliar with the terminal, and right click on the empty space besides the files. Then, click \"Open in Terminal\".\n",
    "\n",
    "Once you have a terminal in the same directory as the Dockerfile, enter the following command to build the Dockerfile:\n",
    "\n",
    "```\n",
    "docker build -f ros2_jazzy.dockerfile -t ros2_jazzy .\n",
    "```\n",
    "\n",
    "Don't forget the `.` at the end!\n",
    "\n",
    "The `-f` flag specifies a file to use, and here we use the `ros2_jazzy.dockerfile`. Other tutorials may require specific images, so you may need different dockerfiles for those tutorials. The `-t` flag specifies a name, so we named our container `ros2_jazzy`.\n",
    "\n",
    "Now, we wait for the image to build.\n",
    "\n",
    "> NOTE\n",
    ">\n",
    "> If the Docker engine is not running, you will get an error when you try to use Docker commands. To launch the Docker engine, simply open Docker Desktop."
   ]
  },
  {
   "cell_type": "markdown",
   "metadata": {},
   "source": [
    "## Step 3: Running the Container\n",
    "\n",
    "Now that we have an image, we can run it as a container. This is essentially a lightweight VM where your ROS systems will run.\n",
    "\n",
    "You should see your image under the images tab of Docker Desktop. Press the play button under actions, and click the blue \"Run\" when the pop up appears. You will see your container launched, and the status on the top right should say \"Running.\""
   ]
  },
  {
   "cell_type": "markdown",
   "metadata": {},
   "source": [
    "## Step 4: Connecting to the Container\n",
    "\n",
    "In order to connect to the Docker container, you must use a terminal.\n",
    "\n",
    "One way to do this is through the VSCode [Docker extension](https://marketplace.visualstudio.com/items?itemName=ms-azuretools.vscode-docker) and [Dev Containers extension](https://marketplace.visualstudio.com/items?itemName=ms-vscode-remote.remote-containers) to get a workspace inside the Docker environment. This will allow you to view and edit the files more easily, as well as easily create multiple terminal windows. You can install VSCode extensions using the Extensions tab in the sidebar (the four squares)\n",
    "\n",
    "To use the VSCode Docker Extension, navigate to the Docker tab in the sidebar, locate your running container, right click on it, and select \"Attach Visual Studio Code.\"\n",
    "\n",
    "Now, you have a workspace inside the Docker container! In ROS, you will need a lot of terminals open at once. You can create a terminal using the Terminal menu in the top right, and drag it to the main window for easier use.\n",
    "\n",
    "<!-- TODO VSCODE terminal gif -->\n",
    "\n",
    "Alternatively, you can attach any other shell to the docker container by opening a terminal and running:\n",
    "```\n",
    "docker exec -it <container_name> bash\n",
    "```\n",
    "\n",
    "Note that VSCode automatically configures the container for GUI when you attach it to the container. If you do not connect a VSCode workspace first, you must properly configure the DISPLAY environment variable yourself."
   ]
  },
  {
   "cell_type": "markdown",
   "metadata": {},
   "source": [
    "## Step 5: Testing\n",
    "\n",
    "To test, we use the first steps of [this tutorial](https://docs.ros.org/en/jazzy/Tutorials/Beginner-CLI-Tools/Introducing-Turtlesim/Introducing-Turtlesim.html). All of the installation is done in the docker image, so all we need to do is:\n",
    "\n",
    "1. Open 2 different terminals\n",
    "2. In one terminal, run: `ros2 run turtlesim turtlesim_node`.\n",
    "3. In another terminal, run: `ros2 run turtlesim turtle_teleop_key`\n",
    "\n",
    "If needed, you may put the `turtlesim_node` terminal behind the `turtle_teleop_key` terminal, but **do not close it**. Then, you can move vscode to take up half your screen, and have the turtlesim on the other side.\n",
    "\n",
    "Congrats! ROS2 is now installed in a docker container."
   ]
  },
  {
   "cell_type": "markdown",
   "metadata": {},
   "source": [
    "# Launching an Existing Container\n",
    "\n",
    "Containers keep all of their files with them. If yo want to access your project that you kept in a container, you should open the same container instead of generating a new one!\n",
    "\n",
    "To do this, simply go to the \"Containers\" tab in Docker Desktop, and click the Run button corresponding to your old container. Then, you can continue from step 4."
   ]
  }
 ],
 "metadata": {
  "kernelspec": {
   "display_name": "Python 3",
   "language": "python",
   "name": "python3"
  },
  "language_info": {
   "codemirror_mode": {
    "name": "ipython",
    "version": 3
   },
   "file_extension": ".py",
   "mimetype": "text/x-python",
   "name": "python",
   "nbconvert_exporter": "python",
   "pygments_lexer": "ipython3",
   "version": "3.12.6"
  }
 },
 "nbformat": 4,
 "nbformat_minor": 2
}
