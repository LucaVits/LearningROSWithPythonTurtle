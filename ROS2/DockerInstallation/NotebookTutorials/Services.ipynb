{
 "cells": [
  {
   "cell_type": "markdown",
   "metadata": {},
   "source": [
    "# Services\n",
    "\n",
    "The second type of connections between nodes is a service.\n",
    "\n",
    "Nodes can run a server, which only serves data when it is requested to by a client. It's similar to a regular function in programming, except it works across nodes.\n",
    "\n",
    "Let's make a server that does the same thing as in our publisher/subscriber node, but only when requested. When you give the server a String, it will return a string with some punctuation added to the end.\n",
    "\n",
    "The first thing we have to do is define the data types, for input and output. Our inputs and outputs are both strings, so lets define a message that consists of an input and output string."
   ]
  },
  {
   "cell_type": "markdown",
   "metadata": {},
   "source": [
    "## Messages\n",
    "\n",
    "The way we can define what goes in our message is with `msg` and `srv` files. Message definitions must be in a CMake package and not a python package, so we'll define our messages in another package, but we can use them anywhere as long as our workspace is loaded. Run the following commands to create a new package."
   ]
  },
  {
   "cell_type": "code",
   "execution_count": null,
   "metadata": {
    "vscode": {
     "languageId": "shellscript"
    }
   },
   "outputs": [],
   "source": [
    "# Initialize your workspace variables\n",
    "workspace = '/home/ubuntu/learn_ros_ws'\n",
    "%cd $workspace\n",
    "package_name = 'basic_nodes'\n",
    "interface_package_name = 'learn_ros_interfaces'"
   ]
  },
  {
   "cell_type": "code",
   "execution_count": null,
   "metadata": {
    "vscode": {
     "languageId": "shellscript"
    }
   },
   "outputs": [],
   "source": [
    "%%bash --no-raise-error -s \"$package_name\" \"$interface_package_name\"\n",
    "cd src\n",
    "\n",
    "# Create a package\n",
    "# ros2 pkg create --build-type ament_python $1 # Should already be created. Uncomment if you skipped the first tutorial.\n",
    "ros2 pkg create --build-type ament_cmake $2"
   ]
  },
  {
   "cell_type": "markdown",
   "metadata": {
    "vscode": {
     "languageId": "shellscript"
    }
   },
   "source": [
    "Now, we need to create two directories in our package: `msg` and `srv`. This is where our message and service definitions will go."
   ]
  },
  {
   "cell_type": "code",
   "execution_count": null,
   "metadata": {
    "vscode": {
     "languageId": "shellscript"
    }
   },
   "outputs": [],
   "source": [
    "%%bash --no-raise-error -s \"$interface_package_name\"\n",
    "\n",
    "mkdir src/$1/src/msg src/$1/src/srv"
   ]
  },
  {
   "cell_type": "markdown",
   "metadata": {},
   "source": [
    "So, what goes in these directiories? We need our message and service files.\n",
    "\n",
    "The name of the file is the name of your message or service, and the contents are defined as follows:\n",
    "\n",
    "```\n",
    "type1 part1\n",
    "type2 part2\n",
    "```\n",
    "\n",
    "This is like a struct in programming.\n",
    "\n",
    "Service definitions are similar, and are defined as follows:\n",
    "\n",
    "```\n",
    "type1 input1\n",
    "type2 input2\n",
    "---\n",
    "type3 output\n",
    "```\n",
    "\n",
    "A service actually consists of two messages: One above the line, and one below it. This means that you can have as many inputs or outputs as you want!\n",
    "\n",
    "For our service, lets define a service with one input string and one output string."
   ]
  },
  {
   "cell_type": "code",
   "execution_count": null,
   "metadata": {},
   "outputs": [],
   "source": [
    "%%writefile src/$interface_package_name/src/srv/AddPunctuation.srv\n",
    "\n",
    "string input\n",
    "---\n",
    "string output"
   ]
  },
  {
   "cell_type": "markdown",
   "metadata": {},
   "source": [
    "Now we need to tell our package about our new service. We're going to edit `package.xml` and `CMakeLists.txt`, which are two files that tell the build system what other files should be used.\n",
    "\n",
    "Add these lines to the end of your CMakeLists.txt in the interfaces.\n",
    "\n",
    "```cmake\n",
    "find_package(rosidl_default_generators REQUIRED)\n",
    "\n",
    "rosidl_generate_interfaces(${PROJECT_NAME}\n",
    "  \"srv/AddPunctuation.srv\"\n",
    ")\n",
    "```\n",
    "\n",
    "Note that we didn't actually make any custom messages, since we don't need them for this tutorial. If you did need to make a message, it would need to be added here as well.\n",
    "\n",
    "Your final CMakeLists.txt should look like this:"
   ]
  },
  {
   "cell_type": "code",
   "execution_count": null,
   "metadata": {},
   "outputs": [],
   "source": [
    "%%writefile src/$interface_package_name/CMakeLists.txt\n",
    "\n",
    "cmake_minimum_required(VERSION 3.8)\n",
    "project(learn_ros_interfaces)\n",
    "\n",
    "if(CMAKE_COMPILER_IS_GNUCXX OR CMAKE_CXX_COMPILER_ID MATCHES \"Clang\")\n",
    "  add_compile_options(-Wall -Wextra -Wpedantic)\n",
    "endif()\n",
    "\n",
    "# find dependencies\n",
    "find_package(ament_cmake REQUIRED)\n",
    "find_package(rosidl_default_generators REQUIRED)\n",
    "# uncomment the following section in order to fill in\n",
    "# further dependencies manually.\n",
    "# find_package(<dependency> REQUIRED)\n",
    "\n",
    "rosidl_generate_interfaces(${PROJECT_NAME}\n",
    "  \"src/srv/AddPunctuation.srv\"\n",
    ")\n",
    "\n",
    "if(BUILD_TESTING)\n",
    "  find_package(ament_lint_auto REQUIRED)\n",
    "  # the following line skips the linter which checks for copyrights\n",
    "  # comment the line when a copyright and license is added to all source files\n",
    "  set(ament_cmake_copyright_FOUND TRUE)\n",
    "  # the following line skips cpplint (only works in a git repo)\n",
    "  # comment the line when this package is in a git repo and when\n",
    "  # a copyright and license is added to all source files\n",
    "  set(ament_cmake_cpplint_FOUND TRUE)\n",
    "  ament_lint_auto_find_test_dependencies()\n",
    "endif()\n",
    "\n",
    "ament_package()"
   ]
  },
  {
   "cell_type": "markdown",
   "metadata": {},
   "source": [
    "We're also going to need to edit `package.xml`, right next to `CMakeLists.txt`.\n",
    "\n",
    "Add these lines to `package.xml`:\n",
    "\n",
    "```\n",
    "  <buildtool_depend>rosidl_default_generators</buildtool_depend>\n",
    "  <exec_depend>rosidl_default_runtime</exec_depend>\n",
    "  <member_of_group>rosidl_interface_packages</member_of_group>\n",
    "```\n",
    "\n",
    "So your final file should look like this:"
   ]
  },
  {
   "cell_type": "code",
   "execution_count": null,
   "metadata": {},
   "outputs": [],
   "source": [
    "%%writefile src/$interface_package_name/package.xml\n",
    "<?xml version=\"1.0\"?>\n",
    "<?xml-model href=\"http://download.ros.org/schema/package_format3.xsd\" schematypens=\"http://www.w3.org/2001/XMLSchema\"?>\n",
    "<package format=\"3\">\n",
    "  <name>learn_ros_interfaces</name>\n",
    "  <version>0.0.0</version>\n",
    "  <description>TODO: Package description</description>\n",
    "  <maintainer email=\"youremailhere@example.com\">root</maintainer>\n",
    "  <license>TODO: License declaration</license>\n",
    "\n",
    "  <buildtool_depend>ament_cmake</buildtool_depend>\n",
    "\n",
    "  <buildtool_depend>rosidl_default_generators</buildtool_depend>\n",
    "  <exec_depend>rosidl_default_runtime</exec_depend>\n",
    "  <member_of_group>rosidl_interface_packages</member_of_group>\n",
    "\n",
    "  <test_depend>ament_lint_auto</test_depend>\n",
    "  <test_depend>ament_lint_common</test_depend>\n",
    "\n",
    "  <export>\n",
    "    <build_type>ament_cmake</build_type>\n",
    "  </export>\n",
    "</package>\n"
   ]
  },
  {
   "cell_type": "markdown",
   "metadata": {},
   "source": [
    "And now build! Once you reload your terminal, you should see your new service interface in the ros2 list."
   ]
  },
  {
   "cell_type": "code",
   "execution_count": null,
   "metadata": {
    "vscode": {
     "languageId": "shellscript"
    }
   },
   "outputs": [],
   "source": [
    "%%bash --no-raise-error -s \"$interface_package_name\"\n",
    "\n",
    "colcon build --packages-select $1\n",
    "source install/local_setup.bash\n",
    "ros2 interface list | grep AddPunctuation"
   ]
  },
  {
   "cell_type": "markdown",
   "metadata": {},
   "source": [
    "Your output should look like this:\n",
    "\n",
    "```\n",
    "Starting >>> learn_ros_interfaces\n",
    "Finished <<< learn_ros_interfaces [0.45s]\n",
    "\n",
    "Summary: 1 package finished [0.54s]\n",
    "    learn_ros_interfaces/srv/AddPunctuation\n",
    "```\n",
    "\n",
    "If you don't see the last line, go back and make sure you followed all the steps."
   ]
  },
  {
   "cell_type": "markdown",
   "metadata": {
    "vscode": {
     "languageId": "shellscript"
    }
   },
   "source": [
    "# Writing a Server\n",
    "\n",
    "To use make use of our service, we need to write a server! This will actually read the request message, generate the response, and send it back to the client."
   ]
  },
  {
   "cell_type": "code",
   "execution_count": null,
   "metadata": {},
   "outputs": [],
   "source": [
    "%%writefile src/$package_name/$package_name/server_node.py\n",
    "import rclpy\n",
    "from rclpy.node import Node\n",
    "from learn_ros_interfaces.srv import AddPunctuation\n",
    "\n",
    "\n",
    "class MyServer(Node):\n",
    "    def __init__(self):\n",
    "        super().__init__('server_node')\n",
    "        \n",
    "        self.my_server = self.create_service(AddPunctuation, 'boring_strings_srv', self.add_punctuation)\n",
    "        \n",
    "    def add_punctuation(self, request, response):\n",
    "        response.output = request.input + '!'\n",
    "        return response\n",
    "    \n",
    "\n",
    "def main(args=None):\n",
    "    print('Starting server node...')\n",
    "    rclpy.init(args=args)\n",
    "    server = MyServer()\n",
    "    rclpy.spin(server)\n",
    "\n",
    "\n",
    "if __name__ == '__main__':\n",
    "    main()"
   ]
  },
  {
   "cell_type": "markdown",
   "metadata": {},
   "source": [
    "Don't forget to add the new entrypoint to your `setup.py`! \n",
    "\n",
    "```python\n",
    "    entry_points={\n",
    "        'console_scripts': [\n",
    "            # other nodes,\n",
    "            'server_node = basic_nodes.server_node:main'\n",
    "        ]\n",
    "    }\n",
    "```"
   ]
  },
  {
   "cell_type": "markdown",
   "metadata": {},
   "source": [
    "It's pretty similar to our subscriber from before! Notice the first argument of create_service; it's the `.srv` type we just created! We also had to import it from our other package, `learn_ros_interfaces`.\n",
    "\n",
    "Once we build and spin up our server, we can send a request to our server with the following command:\n",
    "\n",
    "```bash\n",
    "ros2 run run basic_nodes server_node\n",
    "```"
   ]
  },
  {
   "cell_type": "code",
   "execution_count": null,
   "metadata": {
    "vscode": {
     "languageId": "shellscript"
    }
   },
   "outputs": [],
   "source": [
    "%%bash --no-raise-error -s \"$package_name\"\n",
    "colcon build --packages-select $1\n",
    "source install/local_setup.bash\n",
    "ros2 run basic_nodes server_node"
   ]
  },
  {
   "cell_type": "markdown",
   "metadata": {
    "vscode": {
     "languageId": "shellscript"
    }
   },
   "source": [
    "We can send a request to our server from the command line. Try it out!\n",
    "\n",
    "```bash\n",
    "ros2 service call /boring_strings_srv learn_ros_interfaces/srv/AddPunctuation \"{input: Hello}\"\n",
    "```\n",
    "\n",
    "You should get a response with some exciting punctuation added to the end of it!"
   ]
  },
  {
   "cell_type": "markdown",
   "metadata": {},
   "source": [
    "As with the publisher, we don't want to call the service from the command line every time. Instead, we want to write another node that can call the service by itself. Let's write a client node to use our server node."
   ]
  },
  {
   "cell_type": "code",
   "execution_count": null,
   "metadata": {},
   "outputs": [],
   "source": [
    "%%writefile src/$package_name/$package_name/client_node.py\n",
    "\n",
    "# https://docs.ros.org/en/jazzy/Tutorials/Beginner-Client-Libraries/Writing-A-Simple-Py-Service-And-Client.html#write-the-client-node\n",
    "\n",
    "import sys\n",
    "import rclpy\n",
    "from rclpy.node import Node\n",
    "from learn_ros_interfaces.srv import AddPunctuation\n",
    "\n",
    "\n",
    "class MyClient(Node):\n",
    "    def __init__(self):\n",
    "        super().__init__('client_node')\n",
    "        \n",
    "        self.client = self.create_client(AddPunctuation, 'boring_strings_cli')\n",
    "        while not self.cli.wait_for_service(timeout_sec=1.0):\n",
    "            self.get_logger().info('service not available, waiting again...')\n",
    "        self.req = AddPunctuation.Request()\n",
    "        \n",
    "    def send_request(self, input):\n",
    "        self.req.input = input\n",
    "        return self.client.call_async(self.req)\n",
    "        \n",
    "    \n",
    "\n",
    "def main(args=None):\n",
    "    print('Starting client node...')\n",
    "    rclpy.init(args=args)\n",
    "    client = MyClient()\n",
    "    future = client.send_request(sys.argv[1])\n",
    "    rclpy.spin_until_future_complete(client, future)\n",
    "    response = future.result()\n",
    "    client.get_logger().info('Boring string:\\t' + sys.argv[1] +\n",
    "                             '\\nExciting String:\\t' + response.output)\n",
    "    \n",
    "    client.destroy_node()\n",
    "    rclpy.shutdown()\n",
    "\n",
    "\n",
    "if __name__ == '__main__':\n",
    "    main()"
   ]
  },
  {
   "cell_type": "markdown",
   "metadata": {},
   "source": [
    "Notice that this main function is a little more complicated than the other ones. That's because after the client finishes, it needs to shut itself down. It can't just run forever. Most of the code in the function telling the client node that once it finishes its task, it should stop and shut down.\n",
    "\n",
    "Update your `setup.py again`:\n",
    "\n",
    "```python\n",
    "    entry_points={\n",
    "        'console_scripts': [\n",
    "            # Other nodes\n",
    "            'server_node = basic_nodes.server_node:main',\n",
    "            'client_node = basic_nodes.client_node:main'\n",
    "        ],\n",
    "    },\n",
    "```\n",
    "\n",
    "And run your `client_node`! Remember to build and re-source. \n",
    "\n",
    "Note that it takes in a commandline parameter, so make sure you call it with one.\n",
    "\n",
    "```bash\n",
    "ros2 run basic_nodes client_node \"Hello from the client\"\n",
    "```"
   ]
  },
  {
   "cell_type": "code",
   "execution_count": null,
   "metadata": {
    "vscode": {
     "languageId": "shellscript"
    }
   },
   "outputs": [],
   "source": [
    "%%bash --no-raise-error -s \"$package_name\"\n",
    "\n",
    "colcon build --packages-select $1"
   ]
  },
  {
   "cell_type": "markdown",
   "metadata": {
    "vscode": {
     "languageId": "shellscript"
    }
   },
   "source": [
    "Now you've built a server and client node! In the next section, you'll make your own server and client to... TODO!"
   ]
  }
 ],
 "metadata": {
  "kernelspec": {
   "display_name": "Python 3",
   "language": "python",
   "name": "python3"
  },
  "language_info": {
   "codemirror_mode": {
    "name": "ipython",
    "version": 3
   },
   "file_extension": ".py",
   "mimetype": "text/x-python",
   "name": "python",
   "nbconvert_exporter": "python",
   "pygments_lexer": "ipython3",
   "version": "3.12.7"
  }
 },
 "nbformat": 4,
 "nbformat_minor": 2
}
