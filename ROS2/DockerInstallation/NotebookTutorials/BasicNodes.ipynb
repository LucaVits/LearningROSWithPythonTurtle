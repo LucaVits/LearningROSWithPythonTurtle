{
 "cells": [
  {
   "cell_type": "markdown",
   "metadata": {},
   "source": [
    "# Basic ROS Nodes\n",
    "\n",
    "You are already familiar with ROS nodes from the Turtlesim exercises. Nodes are simply modular programs that can act on data, and pass information between each other. See the diagram on the [Offical ROS2 Docs](https://docs.ros.org/en/jazzy/Tutorials/Beginner-CLI-Tools/Understanding-ROS2-Nodes/Understanding-ROS2-Nodes.html) for a visual animation of information being passed between nodes.\n",
    "\n",
    "In the Turtlesim exercise, you worked with two nodes: the turtlesim itself, and the teleop keyboard controller. In that system, the Turtlesim keeps track of all the turtles, and moves them according to data it recieves from the keyboard controller.\n",
    "\n",
    "![TurtleNode.png](images/TurtleNode.png)\n",
    "\n",
    "As you can see, `teleop_turtle` (the keyboard node) sends data to `turtlesim` about the speed that it wants turtle1 to move at (`turtle1/cmd_vel`).\n",
    "\n",
    "Then, `turtlesim` sends data back about the status of `rotate_absolute` actions. Try it out now! Launch the turtlesim and turtle_teleop_key nodes, and monitor info passed between them with `ros2 topic echo /turtle1/cmd_vel`."
   ]
  },
  {
   "cell_type": "code",
   "execution_count": null,
   "metadata": {
    "vscode": {
     "languageId": "shellscript"
    }
   },
   "outputs": [],
   "source": [
    "!ros2 run turtlesim turtlesim_node"
   ]
  },
  {
   "cell_type": "markdown",
   "metadata": {
    "vscode": {
     "languageId": "shellscript"
    }
   },
   "source": [
    "Run this in a separate terminal, not in Jupyter! You will not be able to input keypresses.\n",
    "```bash\n",
    "ros2 run turtlesim turtle_teleop_key\n",
    "```"
   ]
  },
  {
   "cell_type": "code",
   "execution_count": 2,
   "metadata": {
    "vscode": {
     "languageId": "shellscript"
    }
   },
   "outputs": [],
   "source": [
    "!ros2 topic echo /turtle1/cmd_vel\n",
    "# You may also want to run this in a separate terminal, so you can see all your latest output"
   ]
  },
  {
   "cell_type": "markdown",
   "metadata": {},
   "source": [
    "## "
   ]
  },
  {
   "cell_type": "markdown",
   "metadata": {},
   "source": [
    "## Types of Connections\n",
    "\n",
    "As we saw in the node graph, nodes are connected together to show how they transfer information together. In this tutorial, we'll be covering 3 types of connections.\n",
    "\n",
    "1. [Topics](https://docs.ros.org/en/jazzy/Tutorials/Beginner-CLI-Tools/Understanding-ROS2-Topics/Understanding-ROS2-Topics.html) (Publisher/Subscribers)\n",
    "2. [Services](https://docs.ros.org/en/jazzy/Tutorials/Beginner-CLI-Tools/Understanding-ROS2-Services/Understanding-ROS2-Services.html) (Server/Client)\n",
    "3. [Actions](https://docs.ros.org/en/jazzy/Tutorials/Beginner-CLI-Tools/Understanding-ROS2-Actions/Understanding-ROS2-Actions.html) (Action Server/Client)\n",
    "\n",
    "Now that we know what nodes are and how they interact with each other, lets write our own!"
   ]
  },
  {
   "cell_type": "markdown",
   "metadata": {
    "vscode": {
     "languageId": "shellscript"
    }
   },
   "source": [
    "## Writing A Node\n",
    "\n",
    "To write ROS2 Nodes in python, we will be using the (rclpy)[https://github.com/ros2/rclpy] python library.\n",
    "\n",
    "The first thing we need to do, as always, is enter our workspace and make a package."
   ]
  },
  {
   "cell_type": "code",
   "execution_count": 3,
   "metadata": {
    "vscode": {
     "languageId": "shellscript"
    }
   },
   "outputs": [],
   "source": [
    "# Initialize your workspace variables\n",
    "workspace = '/home/ubuntu/learn_ros_ws'\n",
    "%cd $workspace\n",
    "package_name = 'basic_nodes'"
   ]
  },
  {
   "cell_type": "code",
   "execution_count": 4,
   "metadata": {
    "vscode": {
     "languageId": "shellscript"
    }
   },
   "outputs": [],
   "source": [
    "%%bash --no-raise-error -s \"$package_name\"\n",
    "cd src\n",
    "\n",
    "# Create a package\n",
    "ros2 pkg create --build-type ament_python $1 --node-name subscriber_node"
   ]
  },
  {
   "cell_type": "markdown",
   "metadata": {},
   "source": [
    "Great! Now we have a package for you to work in. Let's look at default the node it autofilled with, the `orphan_node`.\n",
    "\n",
    "```python\n",
    "def main():\n",
    "    print('Hi from basic_nodes.')\n",
    "\n",
    "\n",
    "if __name__ == '__main__':\n",
    "    main()\n",
    "```\n",
    "\n",
    "It's just a main function with a print statement! Remember, each node is simply a program, and the ROS2 part is how it talks to other programs.\n",
    "\n",
    "You can build and run this node with the following commands:"
   ]
  },
  {
   "cell_type": "code",
   "execution_count": 5,
   "metadata": {
    "vscode": {
     "languageId": "shellscript"
    }
   },
   "outputs": [],
   "source": [
    "%%bash --no-raise-error\n",
    "\n",
    "colcon build --packages-select basic_nodes\n",
    "source install/local_setup.bash\n",
    "ros2 run basic_nodes subscriber_node"
   ]
  },
  {
   "cell_type": "markdown",
   "metadata": {},
   "source": [
    "Now that we have a basic node setup, lets make it take some information!\n",
    "\n",
    "## Topics\n",
    "\n",
    "### Subscriber Node\n",
    "\n",
    "A subscriber subscribes to a topic. Whenever data is sent over that topic, all subscribers who are listening will recieve the data. See the graphics on [the official ROS2 docs](https://docs.ros.org/en/jazzy/Tutorials/Beginner-CLI-Tools/Understanding-ROS2-Topics/Understanding-ROS2-Topics.html#id1) for more info.\n",
    "\n",
    "Let's modify our basic node to subscribe to a topic. We're going to make it so that whenever a string is sent to that topic, our base node will add an exclaimation point!"
   ]
  },
  {
   "cell_type": "code",
   "execution_count": 6,
   "metadata": {},
   "outputs": [],
   "source": [
    "%%writefile src/basic_nodes/basic_nodes/subscriber_node.py\n",
    "\n",
    "# Import everything we need: the rclpy library, rclpy nodes, and ros2 strings.\n",
    "import rclpy\n",
    "from rclpy.node import Node\n",
    "from std_msgs.msg import String\n",
    "\n",
    "\n",
    "class MySubscriber(Node):\n",
    "    def __init__(self):\n",
    "        super().__init__('subscriber_node')\n",
    "        self.create_subscription(String, 'boring_strings', self.subscriber_callback, 10)\n",
    "    \n",
    "    def subscriber_callback(self, msg):\n",
    "        print(msg.data + '!')\n",
    "        \n",
    "    \n",
    "\n",
    "def main(args=None):\n",
    "    rclpy.init(args=args)\n",
    "    subscriber = MySubscriber()\n",
    "    rclpy.spin(subscriber)\n",
    "    print('Hi from basic_nodes.')\n",
    "\n",
    "\n",
    "if __name__ == '__main__':\n",
    "    main()"
   ]
  },
  {
   "cell_type": "markdown",
   "metadata": {},
   "source": [
    "Notice how we used a callback function to subscribe to the function. Everytime we recieve some data, the callback function runs. Try running it! When we run the node, it won't finish since its always listening for messages. Send a message in your terminal using the following command:\n",
    "\n",
    "```bash\n",
    "ros2 topic pub /boring_strings std_msgs/msg/String 'data: Hello, world' -1\n",
    "```\n",
    "\n",
    "Its general form is: `ros2 topic pub <topic> <msg_type> <data> -1`\n",
    "\n",
    "The `-1` means to publish once, instead of in a loop."
   ]
  },
  {
   "cell_type": "code",
   "execution_count": 7,
   "metadata": {
    "vscode": {
     "languageId": "shellscript"
    }
   },
   "outputs": [],
   "source": [
    "%%bash --no-raise-error\n",
    "\n",
    "colcon build --packages-select basic_nodes\n",
    "source install/local_setup.bash\n",
    "ros2 run basic_nodes subscriber_node"
   ]
  },
  {
   "cell_type": "markdown",
   "metadata": {},
   "source": [
    "You should see `Hello, world` printed every time you publish to the topic!\n",
    "\n",
    "You can subscribe to a topic with multiple nodes at once. Let's modify our `subscriber_node` to take a parameter."
   ]
  },
  {
   "cell_type": "code",
   "execution_count": 9,
   "metadata": {},
   "outputs": [],
   "source": [
    "%%writefile src/basic_nodes/basic_nodes/subscriber_node.py\n",
    "\n",
    "# Import everything we need: the rclpy library, rclpy nodes, and ros2 strings.\n",
    "import rclpy\n",
    "from rclpy.node import Node\n",
    "from std_msgs.msg import String\n",
    "\n",
    "\n",
    "class MySubscriber(Node):\n",
    "    def __init__(self):\n",
    "        super().__init__('subscriber_node')\n",
    "        \n",
    "        self.create_subscription(String, 'boring_strings', self.subscriber_callback, 10)\n",
    "        self.declare_parameter('punctuation', '.')\n",
    "    \n",
    "    def subscriber_callback(self, msg):\n",
    "        print(msg.data + self.get_parameter_or('punctuation', '.').value)\n",
    "        \n",
    "    \n",
    "\n",
    "def main(args=None):\n",
    "    rclpy.init(args=args)\n",
    "    subscriber = MySubscriber()\n",
    "    rclpy.spin(subscriber)\n",
    "    print('Hi from basic_nodes.')\n",
    "\n",
    "\n",
    "if __name__ == '__main__':\n",
    "    main()\n"
   ]
  },
  {
   "cell_type": "code",
   "execution_count": 10,
   "metadata": {
    "vscode": {
     "languageId": "shellscript"
    }
   },
   "outputs": [],
   "source": [
    "%%bash --no-raise-error\n",
    "\n",
    "colcon build --packages-select basic_nodes\n",
    "source install/local_setup.bash\n",
    "ros2 run basic_nodes subscriber_node --ros-args -p punctuation:=\\\"\\!\\\"\n",
    "# We need to escape the exclaimation mark and its quotes; don't worry too much about the backslashes."
   ]
  },
  {
   "cell_type": "markdown",
   "metadata": {},
   "source": [
    "Try running a second node, with a question mark as punctuation instead! (Remember to surround it with escaped quotation marks.) Then, run the same command as earlier to send a message to the `/boring_strings` topic and see what happens at each node.\n",
    "\n",
    "```bash\n",
    "ros2 topic pub /boring_strings std_msgs/msg/String 'data: Hello, world' -1\n",
    "```"
   ]
  },
  {
   "cell_type": "markdown",
   "metadata": {},
   "source": [
    "If we had to sit around all day and type in messages to publish to our nodes, ROS wouldn't be very useful. We can make a publisher node to do this for us!\n",
    "\n",
    "Now, let's create something to send messages. Create a new file in your `basic_nodes` package, and put in similar code to the `basic_node`. Call it `publisher_node.py`, and put the following code into it:"
   ]
  },
  {
   "cell_type": "code",
   "execution_count": null,
   "metadata": {},
   "outputs": [],
   "source": [
    "\n",
    "# Import everything we need: the rclpy library, rclpy nodes, and ros2 strings.\n",
    "import rclpy\n",
    "from rclpy.node import Node\n",
    "from std_msgs.msg import String\n",
    "\n",
    "\n",
    "class MyPublisher(Node):\n",
    "    def __init__(self):\n",
    "        super().__init__('publisher_node')\n",
    "        \n",
    "        self.my_publisher = self.create_publisher(String, 'boring_strings', 10)\n",
    "        self.create_timer(0.5, self.timer_callback)\n",
    "        \n",
    "    def timer_callback(self):\n",
    "        msg = String()\n",
    "        msg.data = \"Hello, world\"\n",
    "        self.my_publisher.publish(msg)\n",
    "        \n",
    "    \n",
    "\n",
    "def main(args=None):\n",
    "    print('Starting publisher node...')\n",
    "    rclpy.init(args=args)\n",
    "    publisher = MyPublisher()\n",
    "    rclpy.spin(publisher)\n",
    "\n",
    "\n",
    "if __name__ == '__main__':\n",
    "    main()"
   ]
  },
  {
   "cell_type": "markdown",
   "metadata": {},
   "source": [
    "Every time we add a new node, we also need to tell ROS2 that it exists and how to start it! We can do that by adding it to the `setup.py` file"
   ]
  },
  {
   "cell_type": "code",
   "execution_count": 14,
   "metadata": {},
   "outputs": [],
   "source": [
    "%%writefile src/basic_nodes/setup.py\n",
    "\n",
    "from setuptools import find_packages, setup\n",
    "\n",
    "package_name = 'basic_nodes'\n",
    "\n",
    "setup(\n",
    "    name=package_name,\n",
    "    version='0.0.0',\n",
    "    packages=find_packages(exclude=['test']),\n",
    "    data_files=[\n",
    "        ('share/ament_index/resource_index/packages',\n",
    "            ['resource/' + package_name]),\n",
    "        ('share/' + package_name, ['package.xml']),\n",
    "    ],\n",
    "    install_requires=['setuptools'],\n",
    "    zip_safe=True,\n",
    "    maintainer='root',\n",
    "    maintainer_email='your_email_here@example.com',\n",
    "    description='TODO: Package description',\n",
    "    license='TODO: License declaration',\n",
    "    tests_require=['pytest'],\n",
    "    entry_points={\n",
    "        'console_scripts': [\n",
    "            'subscriber_node = basic_nodes.subscriber_node:main',\n",
    "            'publisher_node = basic_nodes.publisher_node:main' # This line! Don't forget the comma.\n",
    "        ],\n",
    "    },\n",
    ")"
   ]
  },
  {
   "cell_type": "markdown",
   "metadata": {},
   "source": [
    "And run it..."
   ]
  },
  {
   "cell_type": "code",
   "execution_count": 3,
   "metadata": {
    "vscode": {
     "languageId": "shellscript"
    }
   },
   "outputs": [],
   "source": [
    "%%bash --no-raise-error\n",
    "\n",
    "colcon build --packages-select basic_nodes\n",
    "source install/local_setup.bash\n",
    "ros2 run basic_nodes publisher_node"
   ]
  },
  {
   "cell_type": "markdown",
   "metadata": {
    "vscode": {
     "languageId": "shellscript"
    }
   },
   "source": [
    "Now, in another terminal, listen to your publisher node using:\n",
    "\n",
    "```bash\n",
    "ros2 topic echo /boring_strings\n",
    "```\n",
    "Where `/boring_strings` is the topic you want to \"echo,\" or print into the terminal.\n",
    "\n",
    "You should see your data being printed!\n",
    "\n",
    "Then, instead of echoing the topic, you can run your subscriber node. Run the command from before to start your subscriber node:\n",
    "\n",
    "```bash\n",
    "ros2 run basic_nodes subscriber_node --ros-args -p punctuation:=\\\"\\!\\\"\n",
    "```"
   ]
  }
 ],
 "metadata": {
  "kernelspec": {
   "display_name": "Python 3",
   "language": "python",
   "name": "python3"
  },
  "language_info": {
   "codemirror_mode": {
    "name": "ipython",
    "version": 3
   },
   "file_extension": ".py",
   "mimetype": "text/x-python",
   "name": "python",
   "nbconvert_exporter": "python",
   "pygments_lexer": "ipython3",
   "version": "3.12.3"
  }
 },
 "nbformat": 4,
 "nbformat_minor": 2
}
