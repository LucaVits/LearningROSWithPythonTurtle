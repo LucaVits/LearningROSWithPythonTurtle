{
 "cells": [
  {
   "cell_type": "markdown",
   "metadata": {},
   "source": [
    "# Creating Packages\n",
    "\n",
    "This guide will walk you through creating packages for your nodes. It will also teach you how to use Jupyter notebooks to execute commands that are written for you."
   ]
  },
  {
   "cell_type": "markdown",
   "metadata": {},
   "source": [
    "\n",
    "## Workspaces\n",
    "\n",
    "All packages exist within a workspace. \n",
    "\n",
    "If you are using our docker container, a workspace has already been created for you at `/home/ubuntu/learn_ros_ws`!\n",
    "\n",
    "If you are not in our docker container, create a folder where you would like your workspace to be located. Then, update the `workspace_location` variable below to match your folder location.\n",
    "\n",
    "Note!\n",
    "You will see a similar block of code at the start of every tutorial notebook that initializes your workspace variables! Don't forget to run it!\n"
   ]
  },
  {
   "cell_type": "code",
   "execution_count": null,
   "metadata": {},
   "outputs": [],
   "source": [
    "workspace_location = '/home/ubuntu/learn_ros_ws' # NOT your package location!\n",
    "%cd $workspace_location"
   ]
  },
  {
   "cell_type": "markdown",
   "metadata": {},
   "source": [
    "Now, we're going to create a package to put inside the workspace. Create a folder inside your workspace called `src`. This is where all the source code for your package will go."
   ]
  },
  {
   "cell_type": "code",
   "execution_count": null,
   "metadata": {
    "vscode": {
     "languageId": "shellscript"
    }
   },
   "outputs": [],
   "source": [
    "mkdir src"
   ]
  },
  {
   "cell_type": "markdown",
   "metadata": {},
   "source": [
    "Inside your package, we're going to initialize a default package using `ament`, ros2's build system. Everytime you make a new package, you will set it up like this."
   ]
  },
  {
   "cell_type": "code",
   "execution_count": null,
   "metadata": {
    "vscode": {
     "languageId": "shellscript"
    }
   },
   "outputs": [],
   "source": [
    "%cd src\n",
    "!ros2 pkg create --build-type ament_python --node-name hello_node hello_package"
   ]
  },
  {
   "cell_type": "markdown",
   "metadata": {},
   "source": [
    "Now, you've created a package called `hello_package` with a single node called `hello_node`. You can inspect the code in `hello_package/hello_node.py`.\n",
    "```python\n",
    "def main():\n",
    "    print('Hi from hello_package.')\n",
    "```\n",
    "\n",
    "It's just a simple print statement! Now, we need to build our package. We can do that using ROS2's build system, `colcon`.\n",
    "\n",
    "Run the command below to build your package."
   ]
  },
  {
   "cell_type": "code",
   "execution_count": null,
   "metadata": {
    "vscode": {
     "languageId": "shellscript"
    }
   },
   "outputs": [],
   "source": [
    "!colcon build --packages-select hello_package"
   ]
  },
  {
   "cell_type": "markdown",
   "metadata": {},
   "source": [
    "And run the package:"
   ]
  },
  {
   "cell_type": "code",
   "execution_count": null,
   "metadata": {
    "vscode": {
     "languageId": "shellscript"
    }
   },
   "outputs": [],
   "source": [
    "%%bash --no\n",
    "ros2 run hello_package hello_node"
   ]
  }
 ],
 "metadata": {
  "kernelspec": {
   "display_name": "Python 3",
   "language": "python",
   "name": "python3"
  },
  "language_info": {
   "codemirror_mode": {
    "name": "ipython",
    "version": 3
   },
   "file_extension": ".py",
   "mimetype": "text/x-python",
   "name": "python",
   "nbconvert_exporter": "python",
   "pygments_lexer": "ipython3",
   "version": "3.12.3"
  }
 },
 "nbformat": 4,
 "nbformat_minor": 2
}
