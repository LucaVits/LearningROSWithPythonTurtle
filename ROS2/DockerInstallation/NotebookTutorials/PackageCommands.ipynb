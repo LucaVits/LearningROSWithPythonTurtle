{
 "cells": [
  {
   "cell_type": "markdown",
   "metadata": {},
   "source": [
    "Commands for:\n",
    "\n",
    "1. Creating a new package\n",
    "2. Building your project\n",
    "3. Sourcing your environment variables (BROKEN)\n",
    "4. Running your node"
   ]
  },
  {
   "cell_type": "code",
   "execution_count": null,
   "metadata": {},
   "outputs": [],
   "source": [
    "# Initialize your workspace variables\n",
    "workspace = '/home/ubuntu/learn_ros_ws'\n",
    "%cd $workspace\n",
    "package_name = 'sample_package'\n",
    "node_name = 'sample_node' # TODO allow adding multiple nodes from a template"
   ]
  },
  {
   "cell_type": "code",
   "execution_count": null,
   "metadata": {
    "vscode": {
     "languageId": "shellscript"
    }
   },
   "outputs": [],
   "source": [
    "%%bash --no-raise-error -s \"$package_name\" \"$node_name\"\n",
    "cd src\n",
    "\n",
    "# Create a package\n",
    "ros2 pkg create --build-type ament_python --node-name $2 $1"
   ]
  },
  {
   "cell_type": "code",
   "execution_count": null,
   "metadata": {
    "vscode": {
     "languageId": "shellscript"
    }
   },
   "outputs": [],
   "source": [
    "%%bash --no-raise-error -s \"$package_name\"\n",
    "source install/setup.bash\n",
    "colcon build --packages-select $1"
   ]
  },
  {
   "cell_type": "code",
   "execution_count": null,
   "metadata": {
    "vscode": {
     "languageId": "shellscript"
    }
   },
   "outputs": [],
   "source": [
    "%%bash -s \"$package_name\" \"$node_name\"\n",
    "\n",
    "source install/setup.bash\n",
    "ros2 run $1 $2"
   ]
  }
 ],
 "metadata": {
  "kernelspec": {
   "display_name": "Python 3",
   "language": "python",
   "name": "python3"
  },
  "language_info": {
   "codemirror_mode": {
    "name": "ipython",
    "version": 3
   },
   "file_extension": ".py",
   "mimetype": "text/x-python",
   "name": "python",
   "nbconvert_exporter": "python",
   "pygments_lexer": "ipython3",
   "version": "3.12.3"
  }
 },
 "nbformat": 4,
 "nbformat_minor": 2
}
