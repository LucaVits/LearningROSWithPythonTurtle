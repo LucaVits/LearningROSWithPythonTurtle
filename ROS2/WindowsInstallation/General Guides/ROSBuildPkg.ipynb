{
  "nbformat": 4,
  "nbformat_minor": 0,
  "metadata": {
    "colab": {
      "provenance": []
    },
    "kernelspec": {
      "name": "python3",
      "display_name": "Python 3"
    },
    "language_info": {
      "name": "python"
    }
  },
  "cells": [
    {
      "cell_type": "markdown",
      "source": [
        "# Building a Package\n",
        "\n",
        "To get the most out of this step, refer to the \"Creating a package\" guide\n",
        "\n",
        "You can actually build multiple packages at a time by running the `colcon build` command in your workspace directory. If you want to build each package individually, separate them into different directories, and build each one at a time.\n",
        "\n",
        "For our purposes, place all of the packages you want to build within the same workspace, usually `src`. If you are following our guide from before, it should be in your `ros2_ws` directory, so on Linux, navigate to it via `cd ~/ros2_ws`, and on Windows, navigate to it via `cd \\ros2_ws`\n",
        "\n",
        "To actually build your packages in Linux, run the command:\n",
        "```\n",
        "colcon build\n",
        "```\n",
        "and on Windows:\n",
        "```\n",
        "colcon build --merge-install\n",
        "```\n",
        "\n",
        "Note: if you have a high number of packages, this command can take a while to run.\n",
        "\n",
        "# Source your setup file\n",
        "\n",
        "Remember from our general installation and testing tutorial that we always have to source the ROS2 installation in order to get ROS2 to run.\n",
        "\n",
        "On Linux, run the following command within your `ros2_ws` directory:\n",
        "```\n",
        "source install/local_setup.bash\n",
        "```\n",
        "And on Windows, run the following command:\n",
        "```\n",
        "call install/local_setup.bat\n",
        "```\n",
        "\n",
        "This will allow you to use anything within your packages.\n",
        "\n",
        "# Using your ROS2 package\n",
        "\n",
        "Lastly, if you want to run your ROS2 package, you can do so using the following format, where you enter the package name and node name (if applicable):\n",
        "```\n",
        "ros2 run pkg_name node_name\n",
        "```\n",
        "\n",
        "If you followed the tutorial in our package creation guide, the command should be as follows:\n",
        "```\n",
        "ros2 run my_package my_node\n",
        "```\n",
        "\n",
        "And then the executeable in your ROS2 package should run without any issues."
      ],
      "metadata": {
        "id": "c7p1qXiGdGqf"
      }
    }
  ]
}