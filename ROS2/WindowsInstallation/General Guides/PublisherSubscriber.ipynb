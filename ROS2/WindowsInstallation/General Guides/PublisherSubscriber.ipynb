{
  "nbformat": 4,
  "nbformat_minor": 0,
  "metadata": {
    "colab": {
      "provenance": []
    },
    "kernelspec": {
      "name": "python3",
      "display_name": "Python 3"
    },
    "language_info": {
      "name": "python"
    }
  },
  "cells": [
    {
      "cell_type": "markdown",
      "source": [
        "# How to write a Publisher and Subscriber\n",
        "\n",
        "This concept focuses around a Publisher and Subscriber model, which is essentially just 2 nodes communicating with each other. For more info about nodes, check out the section of the guide about nodes.\n",
        "\n",
        "The code and instructions used in this tutorial is adapted from the ROS2 documentation, and the code can be found [at this link](https://github.com/ros2/examples/tree/iron/rclcpp/topics).\n",
        "\n",
        "Before using this tutorial, please look into the tutorials for how to create a workspace and package found in our guides.\n",
        "\n",
        "# Create the Package\n",
        "\n",
        "In a new terminal, source your ROS2 installation (`source install/local_setup.bash` or `call install/local_setup.bat`), and then navigate to your `ros2_ws` directory.\n",
        "\n",
        "After entering your workspace, navigate to (or create) your `src` directory within your workspace. Within this workspace, create a package using the following command:\n",
        "```\n",
        "ros2 pkg create --build-type ament_cmake --license Apache-2.0 cpp_pubsub\n",
        "```\n",
        "The terminal should verify the creation of the package with the name cpp_pubsub.\n",
        "\n",
        "Next, enter the package you just created using `cd ros2_ws/src/cpp_pubsub/src`\n",
        "\n",
        "# Writing the publisher/talker node\n",
        "\n",
        "Recall from the installation tutorial we tested if ROS2 was installed through talker and listener nodes? This is the same concept.\n",
        "\n",
        "On Linux and macOS, use the following command to download the publisher code:\n",
        "```\n",
        "wget -O publisher_member_function.cpp https://raw.githubusercontent.com/ros2/examples/iron/rclcpp/topics/minimal_publisher/member_function.cpp\n",
        "```\n",
        "And on Windows, if you are using command line prompt:\n",
        "```\n",
        "curl -sk https://raw.githubusercontent.com/ros2/examples/iron/rclcpp/topics/minimal_publisher/member_function.cpp -o publisher_member_function.cpp\n",
        "```\n",
        "Or if you are using powershell:\n",
        "```\n",
        "curl https://raw.githubusercontent.com/ros2/examples/iron/rclcpp/topics/minimal_publisher/member_function.cpp -o publisher_member_function.cpp\n",
        "```\n",
        "\n",
        "There should now be a new file called `publisher_member_function.cpp`, and within the above directory (`ros2_ws/src/cpp_pubsub`) there should be two new files `CMakeLists.txt` and `package.xml`."
      ],
      "metadata": {
        "id": "Pr5b3hzCCxjH"
      }
    }
  ]
}