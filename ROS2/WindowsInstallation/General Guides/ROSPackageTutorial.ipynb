{
  "nbformat": 4,
  "nbformat_minor": 0,
  "metadata": {
    "colab": {
      "provenance": []
    },
    "kernelspec": {
      "name": "python3",
      "display_name": "Python 3"
    },
    "language_info": {
      "name": "python"
    }
  },
  "cells": [
    {
      "cell_type": "markdown",
      "source": [
        "# How to Develop a Package in ROS2\n",
        "\n",
        "# What is a package?\n",
        "\n",
        "A package is basically the easiest way for you to share your code with others.\n",
        "\n",
        "# Prerequisites\n",
        "\n",
        "By this point in your ROS journey, you should have set up your ROS2 installation, properly installed and used Colcon, and be able to set up your ROS environment by calling `setup.bash`\n",
        "\n",
        "If you have reached this point, you can now develop ROS Packages in both C++ and Python, this guide will go over both.\n",
        "\n",
        "To begin creating any ROS2 Package, use the following command:\n",
        "```\n",
        "ros2 pkg create --license Apache-2.0 <pkg-name> --dependencies [deps]\n",
        "```\n",
        "In the following steps, we will be following a basic tutorial format, so the usage of the above command will also include the `--node-name` and `--license` arguments.\n",
        "\n",
        "# C++ Package Creating\n",
        "Start by navigating to your workspace, in the case of our guides, it would be `cd ~/ros2_ws/src` on Linux and Mac, or `cd \\ros2_ws\\src` on Windows\n",
        "\n",
        "After reaching your workspace, enter the following command to create the package:\n",
        "```\n",
        "ros2 pkg create --build-type ament_cmake --license Apache-2.0 --node-name my_node my_package\n",
        "```\n",
        "And the terminal should return the following message (or similar):\n",
        "```\n",
        "going to create a new package\n",
        "package name: my_package\n",
        "destination directory: /home/user/ros2_ws/src\n",
        "package format: 3\n",
        "version: 0.0.0\n",
        "description: TODO: Package description\n",
        "maintainer: ['<name> <email>']\n",
        "licenses: ['Apache-2.0']\n",
        "build type: ament_cmake\n",
        "dependencies: []\n",
        "node_name: my_node\n",
        "creating folder ./my_package\n",
        "creating ./my_package/package.xml\n",
        "creating source and include folder\n",
        "creating folder ./my_package/src\n",
        "creating folder ./my_package/include/my_package\n",
        "creating ./my_package/CMakeLists.txt\n",
        "creating ./my_package/src/my_node.cpp\n",
        "```\n",
        "\n",
        "And you should see a folder in the `src` directory with the name `my_package`\n",
        "\n"
      ],
      "metadata": {
        "id": "CY04jnOEV9o3"
      }
    }
  ]
}